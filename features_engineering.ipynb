{
 "cells": [
  {
   "cell_type": "markdown",
   "metadata": {},
   "source": [
    "# Talking Data Exploration \n",
    "\n",
    "**Competition info:** https://www.kaggle.com/c/talkingdata-mobile-user-demographics\n",
    "\n",
    "**Total Participants:** 1714 teams\n",
    "\n",
    "**Rank:** 11th\n",
    "\n",
    "## Raw Data Structure\n",
    "- gender_age_test.csv\t\n",
    "- app_labels.csv\t\n",
    "- label_categories.csv\t\n",
    "- phone_brand_device_model.csv\t\n",
    "- sample_submission.csv\t\n",
    "- events.csv\t\n",
    "- app_events.csv\t\n",
    "- gender_age_train.csv\n",
    "\n",
    "> From first look data is directly queried from database. Name of files are name of table. \n",
    "gender_age_train.csv is main file for training. "
   ]
  },
  {
   "cell_type": "code",
   "execution_count": 19,
   "metadata": {
    "collapsed": false
   },
   "outputs": [],
   "source": [
    "import pandas as pd\n",
    "import numpy as np\n",
    "from sklearn.preprocessing import LabelEncoder\n",
    "from scipy.sparse import csr_matrix, hstack\n",
    "import seaborn as sns "
   ]
  },
  {
   "cell_type": "markdown",
   "metadata": {},
   "source": [
    "### Sparse CSR structure\n",
    "\n",
    "> Applying \"One hot encoder\" on brand, device, applications would create big matrix with more than 20,000 features\n",
    "> but most of them are zeros. Sparse matrix CSR is very good to handle this kind of situation and improve performance > in row manipulation."
   ]
  },
  {
   "cell_type": "code",
   "execution_count": 2,
   "metadata": {
    "collapsed": true
   },
   "outputs": [],
   "source": [
    "def save_sparse(filename, xmtr):\n",
    "    np.savez(filename,data = xmtr.data ,indices= xmtr.indices,\n",
    "             indptr =xmtr.indptr, shape=xmtr.shape )\n",
    "    \n",
    "def load_sparse(filename):\n",
    "    tmp = np.load(filename)\n",
    "    return csr_matrix((tmp['data'], tmp['indices'], tmp['indptr']), shape= tmp['shape'])"
   ]
  },
  {
   "cell_type": "markdown",
   "metadata": {},
   "source": [
    "## Load data\n",
    "Loading data from \"/Data/\" folder. \n",
    "    - gender_age_train for train dataset\n",
    "    - geder_age_test for test dataset\n",
    "    - phone_brand_device_model for phone information dataset\n",
    "    - events\n",
    "    - application events\n",
    "    - application label (category)\n",
    "    \n",
    "For application event, is_installed can be ignored. There is no sample that is_installed is false and can be active.\n",
    "    "
   ]
  },
  {
   "cell_type": "code",
   "execution_count": 3,
   "metadata": {
    "collapsed": false
   },
   "outputs": [
    {
     "name": "stdout",
     "output_type": "stream",
     "text": [
      "total train records:  74645\n",
      "total test records:  112071\n",
      "phone data after removed duplicates: 186716 \n"
     ]
    }
   ],
   "source": [
    "train = pd.read_csv(\"Data/gender_age_train.csv\", index_col='device_id')\n",
    "test = pd.read_csv(\"Data/gender_age_test.csv\", index_col='device_id')\n",
    "phone_data = pd.read_csv(\"Data/phone_brand_device_model.csv\").drop_duplicates('device_id',keep='first').set_index('device_id')\n",
    "events = pd.read_csv(\"Data/events.csv\", index_col='event_id')\n",
    "app_events = pd.read_csv(\"Data/app_events.csv\", usecols=['event_id','app_id','is_active'], dtype={'is_active': bool}, index_col='event_id')\n",
    "app_labels = pd.read_csv(\"Data/app_labels.csv\")\n",
    "\n",
    "print 'total train records: % d' % len(train)\n",
    "print 'total test records: % d' % len(test)\n",
    "print 'phone data after removed duplicates: %d ' % len(phone_data)"
   ]
  },
  {
   "cell_type": "markdown",
   "metadata": {},
   "source": [
    "### Train Data Observation\n",
    "\n",
    "\n",
    "> the ratio between train: test, 1:1.5\n",
    "\n",
    "> In training data, Female 26,741 and Male 47,904 so basically ration is 1:1.79 or roughly 80% higher for male.\n",
    "> With normal train test data split, we can roughly estimate that in test data the ratio could be not much different from train data.\n",
    "\n",
    "\n",
    "> Age ranges are unequal. Some length is longer than another range."
   ]
  },
  {
   "cell_type": "code",
   "execution_count": 17,
   "metadata": {
    "collapsed": false
   },
   "outputs": [
    {
     "data": {
      "text/plain": [
       "<matplotlib.axes._subplots.AxesSubplot at 0x115e9e890>"
      ]
     },
     "execution_count": 17,
     "metadata": {},
     "output_type": "execute_result"
    },
    {
     "data": {
      "image/png": "[encoded data removed]",
      "text/plain": [
       "<matplotlib.figure.Figure at 0x1168dfb10>"
      ]
     },
     "metadata": {},
     "output_type": "display_data"
    }
   ],
   "source": [
    "%matplotlib inline\n",
    "train.groupby('gender').agg({'age':{'total':'count'}}).plot(kind='barh', colormap='Pastel2')"
   ]
  },
  {
   "cell_type": "code",
   "execution_count": 18,
   "metadata": {
    "collapsed": false
   },
   "outputs": [
    {
     "data": {
      "text/plain": [
       "<matplotlib.axes._subplots.AxesSubplot at 0x11690cb90>"
      ]
     },
     "execution_count": 18,
     "metadata": {},
     "output_type": "execute_result"
    },
    {
     "data": {
      "image/png": "[encoded data removed]",
      "text/plain": [
       "<matplotlib.figure.Figure at 0x116798b10>"
      ]
     },
     "metadata": {},
     "output_type": "display_data"
    }
   ],
   "source": [
    "train.groupby('group').agg({'gender':'count'}).plot(kind='bar', colormap='Pastel2')"
   ]
  },
  {
   "cell_type": "code",
   "execution_count": null,
   "metadata": {
    "collapsed": true
   },
   "outputs": [],
   "source": []
  },
  {
   "cell_type": "markdown",
   "metadata": {
    "collapsed": false
   },
   "source": [
    "## Prepare data and transform (Categorize data)\n",
    "\n",
    "Before joining data between event_application / event / train / test. This help us for separating data before using with model \n",
    "\n",
    "Events and app_events\n",
    "\n",
    "In one event, it indicate one device which mean one user. One event can have many app events.\n",
    "\n",
    "So we will perform join between event and app event\n",
    "\n",
    "- remove unnessesary columns in train.\n",
    "- create new column in train and test to indicate index\n",
    "- create Y from train\n",
    "- transform app_id in app_event\n",
    "- transform app_label in app_labels\n",
    "- join between event and app event\n",
    "\n"
   ]
  },
  {
   "cell_type": "code",
   "execution_count": 20,
   "metadata": {
    "collapsed": false
   },
   "outputs": [
    {
     "data": {
      "text/html": [
       "<div>\n",
       "<table border=\"1\" class=\"dataframe\">\n",
       "  <thead>\n",
       "    <tr style=\"text-align: right;\">\n",
       "      <th></th>\n",
       "      <th>group</th>\n",
       "      <th>train_index</th>\n",
       "    </tr>\n",
       "    <tr>\n",
       "      <th>device_id</th>\n",
       "      <th></th>\n",
       "      <th></th>\n",
       "    </tr>\n",
       "  </thead>\n",
       "  <tbody>\n",
       "    <tr>\n",
       "      <th>-8076087639492063270</th>\n",
       "      <td>M32-38</td>\n",
       "      <td>0</td>\n",
       "    </tr>\n",
       "    <tr>\n",
       "      <th>-2897161552818060146</th>\n",
       "      <td>M32-38</td>\n",
       "      <td>1</td>\n",
       "    </tr>\n",
       "    <tr>\n",
       "      <th>-8260683887967679142</th>\n",
       "      <td>M32-38</td>\n",
       "      <td>2</td>\n",
       "    </tr>\n",
       "  </tbody>\n",
       "</table>\n",
       "</div>"
      ],
      "text/plain": [
       "                       group  train_index\n",
       "device_id                                \n",
       "-8076087639492063270  M32-38            0\n",
       "-2897161552818060146  M32-38            1\n",
       "-8260683887967679142  M32-38            2"
      ]
     },
     "execution_count": 20,
     "metadata": {},
     "output_type": "execute_result"
    }
   ],
   "source": [
    "train['train_index'] = np.arange(train.shape[0])\n",
    "test['test_index'] = np.arange(test.shape[0])\n",
    "train = train.drop(['gender','age'], axis=1)\n",
    "train.head(3)"
   ]
  },
  {
   "cell_type": "code",
   "execution_count": 21,
   "metadata": {
    "collapsed": false
   },
   "outputs": [
    {
     "name": "stdout",
     "output_type": "stream",
     "text": [
      "total number of target classes:  12 ['F23-' 'F24-26' 'F27-28' 'F29-32' 'F33-42' 'F43+' 'M22-' 'M23-26' 'M27-28'\n",
      " 'M29-31' 'M32-38' 'M39+']\n"
     ]
    }
   ],
   "source": [
    "y_encoder = LabelEncoder().fit(train.group)\n",
    "train['group'] = y_encoder.transform(train.group)\n",
    "yclasses_ = len(y_encoder.classes_)\n",
    "print 'total number of target classes: ', yclasses_, y_encoder.classes_"
   ]
  },
  {
   "cell_type": "code",
   "execution_count": 22,
   "metadata": {
    "collapsed": false
   },
   "outputs": [],
   "source": [
    "label_cate = pd.read_csv('Data/label_categories.csv')"
   ]
  },
  {
   "cell_type": "code",
   "execution_count": 23,
   "metadata": {
    "collapsed": false
   },
   "outputs": [],
   "source": [
    "app_labels = app_labels.loc[app_labels.app_id.isin(app_events.app_id.unique())]\n",
    "\n",
    "app_encoder = LabelEncoder().fit(app_events.app_id)\n",
    "label_encoder = LabelEncoder().fit(app_labels.label_id)\n",
    "app_events['app'] = app_encoder.transform(app_events.app_id)\n",
    "app_labels['app'] = app_encoder.transform(app_labels.app_id)\n",
    "app_labels['label'] = label_encoder.transform(app_labels.label_id)"
   ]
  },
  {
   "cell_type": "code",
   "execution_count": 24,
   "metadata": {
    "collapsed": false
   },
   "outputs": [],
   "source": [
    "app_id_to_label = app_labels.join(label_cate, how='left', on='label_id', lsuffix='k')[['app_id','app','label','category']]"
   ]
  },
  {
   "cell_type": "code",
   "execution_count": 25,
   "metadata": {
    "collapsed": false
   },
   "outputs": [],
   "source": [
    "joined_app_events = app_events.join(events)\n",
    "joined_app_events = joined_app_events.groupby(['device_id','app'])['app'].agg(['size'])\n",
    "joined_app_events = ((joined_app_events.join(train['train_index'], how='left')).join(test['test_index'], how='left')).reset_index()"
   ]
  },
  {
   "cell_type": "code",
   "execution_count": 26,
   "metadata": {
    "collapsed": false
   },
   "outputs": [],
   "source": [
    "joined_labels = joined_app_events.merge(app_labels[['app','label']])[['device_id','label','app']]\n",
    "joined_labels = joined_labels.groupby(['device_id','label'])['app'].agg(['size'])\n",
    "joined_labels = ((joined_labels.join(train['train_index'], how='left')).join(test['test_index'], how='left')).reset_index()"
   ]
  },
  {
   "cell_type": "code",
   "execution_count": 39,
   "metadata": {
    "collapsed": false
   },
   "outputs": [
    {
     "name": "stdout",
     "output_type": "stream",
     "text": [
      "total device that has event data: 60865\n",
      "[train]devices that does not have application information: 51336\n",
      "[test]devices that does not have application information: 76877\n",
      "[train] train that has app data percentage: 0.312264719673\n",
      "[test] train that has app data percentage: 0.314033068323\n"
     ]
    }
   ],
   "source": [
    "print 'total device that has event data:' , len(events['device_id'].unique())\n",
    "\n",
    "has_events_devices = set(events['device_id'].unique())\n",
    "\n",
    "no_event_train = len(set(train.index.unique()) - has_events_devices)\n",
    "no_event_test = len(set(test.index.unique()) - has_events_devices)\n",
    "\n",
    "print '[train]devices that does not have application information:', no_event_train\n",
    "print '[test]devices that does not have application information:', no_event_test\n",
    "\n",
    "print '[train] train that has app data percentage:', (len(train) - no_event_train) / float(len(train))\n",
    "print '[test] train that has app data percentage:', (len(test) - no_event_test) / float(len(test))\n",
    "\n"
   ]
  },
  {
   "cell_type": "markdown",
   "metadata": {},
   "source": [
    "App event in training data set \n",
    "- Only 25650 training devices has app data (~31%)\n",
    "- Only 37532 test devices has app data (~ 31%)\n",
    "Really low, so we need to focus on somethings else. Not, app and label...\n",
    "\n",
    "Both of train and text has roughly percent of no event records. \n",
    "\n",
    "**So... original data was split equally.(Stratified)**\n",
    "\n",
    "** Even we use events to perfectly predict, it still cover only 31% of overall data. So it's nearly impossible to go up more than 30% accurate on just events ** "
   ]
  },
  {
   "cell_type": "markdown",
   "metadata": {},
   "source": [
    "## Brand\n",
    "\n",
    "Total brand : 131 unique brand. every data has brand"
   ]
  },
  {
   "cell_type": "code",
   "execution_count": 10,
   "metadata": {
    "collapsed": false
   },
   "outputs": [
    {
     "name": "stdout",
     "output_type": "stream",
     "text": [
      "(74645, 131) (112071, 131)\n"
     ]
    }
   ],
   "source": [
    "brand_encoder = LabelEncoder().fit(phone_data.phone_brand)\n",
    "phone_data['converted_brand_only'] = brand_encoder.transform(phone_data.phone_brand)\n",
    "\n",
    "train['brand_only'] = phone_data['converted_brand_only']\n",
    "test['brand_only'] = phone_data['converted_brand_only']\n",
    "\n",
    "sparse_train_brand_only = csr_matrix((np.ones(train.shape[0]), (train.train_index, train.brand_only)))\n",
    "sparse_test_brand_only = csr_matrix((np.ones(test.shape[0]), (test.test_index, test.brand_only)))\n",
    "print sparse_train_brand_only.shape, sparse_test_brand_only.shape"
   ]
  },
  {
   "cell_type": "markdown",
   "metadata": {},
   "source": [
    "## Time STAMP CONVERSION\n",
    "\n",
    "into hour"
   ]
  },
  {
   "cell_type": "code",
   "execution_count": 12,
   "metadata": {
    "collapsed": false
   },
   "outputs": [],
   "source": [
    "events['hour'] = pd.to_datetime(events['timestamp']).dt.hour"
   ]
  },
  {
   "cell_type": "code",
   "execution_count": 43,
   "metadata": {
    "collapsed": false
   },
   "outputs": [
    {
     "data": {
      "text/html": [
       "<div>\n",
       "<table border=\"1\" class=\"dataframe\">\n",
       "  <thead>\n",
       "    <tr style=\"text-align: right;\">\n",
       "      <th></th>\n",
       "      <th>device_id</th>\n",
       "      <th>timestamp</th>\n",
       "      <th>longitude</th>\n",
       "      <th>latitude</th>\n",
       "    </tr>\n",
       "    <tr>\n",
       "      <th>event_id</th>\n",
       "      <th></th>\n",
       "      <th></th>\n",
       "      <th></th>\n",
       "      <th></th>\n",
       "    </tr>\n",
       "  </thead>\n",
       "  <tbody>\n",
       "    <tr>\n",
       "      <th>1</th>\n",
       "      <td>29182687948017175</td>\n",
       "      <td>2016-05-01 00:55:25</td>\n",
       "      <td>121.38</td>\n",
       "      <td>31.24</td>\n",
       "    </tr>\n",
       "    <tr>\n",
       "      <th>2</th>\n",
       "      <td>-6401643145415154744</td>\n",
       "      <td>2016-05-01 00:54:12</td>\n",
       "      <td>103.65</td>\n",
       "      <td>30.97</td>\n",
       "    </tr>\n",
       "    <tr>\n",
       "      <th>3</th>\n",
       "      <td>-4833982096941402721</td>\n",
       "      <td>2016-05-01 00:08:05</td>\n",
       "      <td>106.60</td>\n",
       "      <td>29.70</td>\n",
       "    </tr>\n",
       "    <tr>\n",
       "      <th>4</th>\n",
       "      <td>-6815121365017318426</td>\n",
       "      <td>2016-05-01 00:06:40</td>\n",
       "      <td>104.27</td>\n",
       "      <td>23.28</td>\n",
       "    </tr>\n",
       "    <tr>\n",
       "      <th>5</th>\n",
       "      <td>-5373797595892518570</td>\n",
       "      <td>2016-05-01 00:07:18</td>\n",
       "      <td>115.88</td>\n",
       "      <td>28.66</td>\n",
       "    </tr>\n",
       "  </tbody>\n",
       "</table>\n",
       "</div>"
      ],
      "text/plain": [
       "                    device_id            timestamp  longitude  latitude\n",
       "event_id                                                               \n",
       "1           29182687948017175  2016-05-01 00:55:25     121.38     31.24\n",
       "2        -6401643145415154744  2016-05-01 00:54:12     103.65     30.97\n",
       "3        -4833982096941402721  2016-05-01 00:08:05     106.60     29.70\n",
       "4        -6815121365017318426  2016-05-01 00:06:40     104.27     23.28\n",
       "5        -5373797595892518570  2016-05-01 00:07:18     115.88     28.66"
      ]
     },
     "execution_count": 43,
     "metadata": {},
     "output_type": "execute_result"
    }
   ],
   "source": [
    "events."
   ]
  },
  {
   "cell_type": "code",
   "execution_count": 13,
   "metadata": {
    "collapsed": false
   },
   "outputs": [],
   "source": [
    "stampping = events.groupby(['device_id','hour'])['timestamp'].agg(['size'])\n",
    "stampping = ((stampping.join(train['train_index'], how='left')).join(test['test_index'], how='left')).reset_index()"
   ]
  },
  {
   "cell_type": "code",
   "execution_count": 14,
   "metadata": {
    "collapsed": false
   },
   "outputs": [
    {
     "name": "stdout",
     "output_type": "stream",
     "text": [
      "(74645, 24) (112071, 24)\n"
     ]
    }
   ],
   "source": [
    "d = stampping.dropna(subset=['train_index'])\n",
    "sparse_event_time_train = csr_matrix((np.ones(d.shape[0]), (d.train_index, d.hour)), shape=(train.shape[0], 24))\n",
    "d = stampping.dropna(subset=['test_index'])\n",
    "sparse_event_time_test = csr_matrix((np.ones(d.shape[0]), (d.test_index,d.hour)), shape=(test.shape[0], 24))\n",
    "print sparse_event_time_train.shape, sparse_event_time_test.shape"
   ]
  },
  {
   "cell_type": "markdown",
   "metadata": {},
   "source": [
    "## Feature engineer : Brand + Phone Model (One Hot encoding)\n",
    "\n",
    "Convert phone model from string by label it and transform into one hot encoding.\n",
    "Same approach as brand\n",
    "\n",
    "- Concat phone model string with brand string to create unique model approach\n",
    "\n",
    "Convert brand from string by label it and transform into one hot encoding.\n",
    "\n",
    "<table>\n",
    "<tr>\n",
    "<th>device_id</th>\n",
    "<th>brand 1 model 1</th>\n",
    "<th>brand 2 model 1</th>\n",
    "<th>...</th>\n",
    "<th>brand n model m</th>\n",
    "</tr>\n",
    "<tr>\n",
    "<td>device_1</td>\n",
    "<td>1</td>\n",
    "<td>0</td>\n",
    "<td>...</td>\n",
    "<td>0</td>\n",
    "</tr>\n",
    "<tr>\n",
    "<td>device_2</td>\n",
    "<td>0</td>\n",
    "<td>1</td>\n",
    "<td>...</td>\n",
    "<td>0</td>\n",
    "</tr>\n",
    "</table>\n",
    "\n",
    "the data will be in form of sparse matrix (row) for better performance.\n",
    "\n",
    "- Join brand and model \n",
    "- LabelEncoding phone brand.\n",
    "- Join them into train/test data by device_id (already declared as index)\n",
    "- becareful, since csr_matrix does not support negative row index, so we cannot use device_id\n"
   ]
  },
  {
   "cell_type": "code",
   "execution_count": 11,
   "metadata": {
    "collapsed": false
   },
   "outputs": [
    {
     "name": "stdout",
     "output_type": "stream",
     "text": [
      "(74645, 1667) (112071, 1667)\n"
     ]
    }
   ],
   "source": [
    "model = phone_data.phone_brand.str.cat(phone_data.device_model)\n",
    "\n",
    "phone_encoder = LabelEncoder().fit(model)\n",
    "phone_data['converted_brand'] = phone_encoder.transform(model)\n",
    "\n",
    "train['brand'] = phone_data['converted_brand']\n",
    "test['brand'] = phone_data['converted_brand']\n",
    "\n",
    "sparse_train_brand = csr_matrix((np.ones(train.shape[0]), (train.train_index, train.brand)))\n",
    "sparse_test_brand = csr_matrix((np.ones(test.shape[0]), (test.test_index, test.brand)))\n",
    "print sparse_train_brand.shape, sparse_test_brand.shape"
   ]
  },
  {
   "cell_type": "markdown",
   "metadata": {},
   "source": [
    "## Feature, App active\n",
    "\n",
    "Convert joined app_events into sparse matrix.\n",
    "\n",
    "<table>\n",
    "<tr>\n",
    "<th>device_id</th>\n",
    "<th>app 1</th>\n",
    "<th>app 2</th>\n",
    "<th>...</th>\n",
    "<th>app n</th>\n",
    "</tr>\n",
    "<tr>\n",
    "<td>device_1</td>\n",
    "<td>1</td>\n",
    "<td>0</td>\n",
    "<td>...</td>\n",
    "<td>0</td>\n",
    "</tr>\n",
    "<tr>\n",
    "<td>device_2</td>\n",
    "<td>0</td>\n",
    "<td>1</td>\n",
    "<td>...</td>\n",
    "<td>0</td>\n",
    "</tr>\n",
    "</table>\n",
    "\n",
    "total apps in this dataset is 19237"
   ]
  },
  {
   "cell_type": "code",
   "execution_count": 16,
   "metadata": {
    "collapsed": false
   },
   "outputs": [
    {
     "name": "stdout",
     "output_type": "stream",
     "text": [
      "(74645, 19237) (112071, 19237)\n"
     ]
    }
   ],
   "source": [
    "d = joined_app_events.dropna(subset=['train_index'])\n",
    "sparse_train_appusage = csr_matrix((np.ones(d.shape[0]), (d.train_index, d.app)), shape=(train.shape[0],len(app_encoder.classes_)))\n",
    "d = joined_app_events.dropna(subset=['test_index'])\n",
    "sparse_test_appusage = csr_matrix((np.ones(d.shape[0]), (d.test_index,d.app)), shape=(test.shape[0],len(app_encoder.classes_)))\n",
    "print sparse_train_appusage.shape, sparse_test_appusage.shape"
   ]
  },
  {
   "cell_type": "markdown",
   "metadata": {
    "collapsed": false
   },
   "source": [
    "## Feature, Label\n",
    "\n",
    "Label represent application category. One application can be in many label, and one device can have many applications.\n",
    "\n",
    "Using sparse matrix, we can represent how many diversity of target phone is. One row in sparse mean \n",
    "    - how many app category that user interested in\n",
    "    \n",
    "** However ** using sparse matrix does not represent which category user interested in the most. or in order."
   ]
  },
  {
   "cell_type": "code",
   "execution_count": 17,
   "metadata": {
    "collapsed": false
   },
   "outputs": [
    {
     "name": "stdout",
     "output_type": "stream",
     "text": [
      "(74645, 492) (112071, 492)\n"
     ]
    }
   ],
   "source": [
    "d = joined_labels.dropna(subset=['train_index'])\n",
    "sparse_train_label = csr_matrix((np.ones(d.shape[0]), (d.train_index,d.label)), shape=(train.shape[0], len(label_encoder.classes_)))\n",
    "d = joined_labels.dropna(subset=['test_index'])\n",
    "sparse_test_label = csr_matrix((np.ones(d.shape[0]), (d.test_index,d.label)),shape=(test.shape[0], len(label_encoder.classes_)))\n",
    "print sparse_train_label.shape, sparse_test_label.shape"
   ]
  },
  {
   "cell_type": "code",
   "execution_count": 55,
   "metadata": {
    "collapsed": true
   },
   "outputs": [],
   "source": [
    "save_sparse('WorkSpace/sprm_brand_train',sparse_train_brand)\n",
    "save_sparse('WorkSpace/sprm_brand_test',sparse_test_brand)\n",
    "save_sparse('WorkSpace/sprm_label_train', sparse_train_label)\n",
    "save_sparse('WorkSpace/sprm_label_test', sparse_test_label)\n",
    "save_sparse('WorkSpace/sparse_train_appusage', sparse_train_appusage)\n",
    "save_sparse('WorkSpace/sparse_test_appusage', sparse_test_appusage)\n",
    "#add 2016-08-30\n",
    "save_sparse('WorkSpace/sparse_event_time_train', sparse_event_time_train)\n",
    "save_sparse('WorkSpace/sparse_event_time_test', sparse_event_time_test)\n",
    "save_sparse('WorkSpace/sparse_train_brand_only', sparse_train_brand_only)\n",
    "save_sparse('WorkSpace/sparse_test_brand_only', sparse_test_brand_only)"
   ]
  },
  {
   "cell_type": "markdown",
   "metadata": {},
   "source": [
    "## Feature combine and save"
   ]
  },
  {
   "cell_type": "code",
   "execution_count": 56,
   "metadata": {
    "collapsed": false
   },
   "outputs": [
    {
     "name": "stdout",
     "output_type": "stream",
     "text": [
      "(74645, 21551) (112071, 21551)\n"
     ]
    }
   ],
   "source": [
    "Xtrain = hstack((sparse_train_brand_only, sparse_train_brand,  sparse_train_appusage, sparse_train_label,sparse_event_time_train), format='csr')\n",
    "Xtest =  hstack((sparse_test_brand_only, sparse_test_brand, sparse_test_appusage, sparse_test_label, sparse_event_time_test), format='csr')\n",
    "print Xtrain.shape, Xtest.shape"
   ]
  },
  {
   "cell_type": "code",
   "execution_count": 57,
   "metadata": {
    "collapsed": false
   },
   "outputs": [],
   "source": [
    "train[['train_index','group']].to_csv('WorkSpace/Ytrain.csv', index=False)"
   ]
  },
  {
   "cell_type": "code",
   "execution_count": 94,
   "metadata": {
    "collapsed": false
   },
   "outputs": [],
   "source": [
    "save_sparse('WorkSpace/sprm_train_additional', Xtrain)\n",
    "save_sparse('WorkSpace/sprm_test_v2', Xtest)\n"
   ]
  },
  {
   "cell_type": "markdown",
   "metadata": {
    "collapsed": true
   },
   "source": [
    "## Transformation\n",
    "\n",
    "- PCA on each unit\n",
    "- Kernel PCA\n",
    "- Log ?\n",
    "- Many things"
   ]
  },
  {
   "cell_type": "code",
   "execution_count": 18,
   "metadata": {
    "collapsed": false
   },
   "outputs": [],
   "source": [
    "\"\"\" Keep only sparse \"\"\"\n",
    "del train \n",
    "del test \n",
    "del phone_data \n",
    "del events \n",
    "del app_events\n",
    "del app_labels"
   ]
  },
  {
   "cell_type": "code",
   "execution_count": 20,
   "metadata": {
    "collapsed": false
   },
   "outputs": [],
   "source": [
    "from sklearn.decomposition import PCA\n",
    "from scipy.sparse import vstack\n",
    "# expect 95% of coverage\n",
    "# label\n",
    "\n"
   ]
  },
  {
   "cell_type": "code",
   "execution_count": 34,
   "metadata": {
    "collapsed": false
   },
   "outputs": [],
   "source": [
    "def apply_pca(sparse, variance=0.95):\n",
    "    pca = PCA(n_components= variance)\n",
    "    pca.fit(sparse.toarray())\n",
    "    print 'number of reduced components: ', pca.n_components_\n",
    "    return pca.transform(sparse.toarray())\n",
    "\n",
    "def train_test_pca(train_sparse, test_sparse, variance=0.95):\n",
    "    cutoff_idx = train_sparse.shape\n",
    "    whole_sparse = vstack((train_sparse, test_sparse))\n",
    "    print 'before pca, components: ' , cutoff_idx[1]\n",
    "    transformed = apply_pca(whole_sparse, variance)\n",
    "    train_transformed = transformed[:cutoff_idx[0], :]\n",
    "    test_transformed = transformed[cutoff_idx[0]:,:]\n",
    "    return train_transformed, test_transformed\n",
    "    "
   ]
  },
  {
   "cell_type": "code",
   "execution_count": 35,
   "metadata": {
    "collapsed": false
   },
   "outputs": [
    {
     "name": "stdout",
     "output_type": "stream",
     "text": [
      "before pca, components:  492\n",
      "number of reduced components:  146\n"
     ]
    }
   ],
   "source": [
    "train_label_pca, test_label_pca = train_test_pca(sparse_train_label,sparse_test_label)"
   ]
  },
  {
   "cell_type": "code",
   "execution_count": null,
   "metadata": {
    "collapsed": false
   },
   "outputs": [],
   "source": [
    "train_app_pca, test_app_pca = train_test_pca(sparse_train_appusage,sparse_test_appusage)"
   ]
  },
  {
   "cell_type": "code",
   "execution_count": null,
   "metadata": {
    "collapsed": true
   },
   "outputs": [],
   "source": []
  }
 ],
 "metadata": {
  "kernelspec": {
   "display_name": "Python 2",
   "language": "python",
   "name": "python2"
  },
  "language_info": {
   "codemirror_mode": {
    "name": "ipython",
    "version": 2
   },
   "file_extension": ".py",
   "mimetype": "text/x-python",
   "name": "python",
   "nbconvert_exporter": "python",
   "pygments_lexer": "ipython2",
   "version": "2.7.10"
  }
 },
 "nbformat": 4,
 "nbformat_minor": 0
}
